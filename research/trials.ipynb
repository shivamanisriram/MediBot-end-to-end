{
 "cells": [
  {
   "cell_type": "code",
   "execution_count": 1,
   "id": "320519a4",
   "metadata": {},
   "outputs": [
    {
     "name": "stdout",
     "output_type": "stream",
     "text": [
      "ok\n"
     ]
    }
   ],
   "source": [
    "print(\"ok\")"
   ]
  },
  {
   "cell_type": "code",
   "execution_count": 2,
   "id": "34fc8c2d",
   "metadata": {},
   "outputs": [
    {
     "data": {
      "text/plain": [
       "'/Users/shivamanisriram/Documents/coding /medibot/medibot-gen-ai/research'"
      ]
     },
     "execution_count": 2,
     "metadata": {},
     "output_type": "execute_result"
    }
   ],
   "source": [
    "%pwd"
   ]
  },
  {
   "cell_type": "code",
   "execution_count": 3,
   "id": "0b2ff935",
   "metadata": {},
   "outputs": [],
   "source": [
    "import os \n",
    "os.chdir('..')"
   ]
  },
  {
   "cell_type": "code",
   "execution_count": 4,
   "id": "fd0f5c9e",
   "metadata": {},
   "outputs": [
    {
     "data": {
      "text/plain": [
       "'/Users/shivamanisriram/Documents/coding /medibot/medibot-gen-ai'"
      ]
     },
     "execution_count": 4,
     "metadata": {},
     "output_type": "execute_result"
    }
   ],
   "source": [
    "%pwd"
   ]
  },
  {
   "cell_type": "code",
   "execution_count": 5,
   "id": "76e7666e",
   "metadata": {},
   "outputs": [
    {
     "name": "stdout",
     "output_type": "stream",
     "text": [
      "Requirement already satisfied: sentence-transformers==2.2.2 in /Users/shivamanisriram/miniforge3/envs/medibot310/lib/python3.10/site-packages (2.2.2)\n",
      "Requirement already satisfied: langchain in /Users/shivamanisriram/miniforge3/envs/medibot310/lib/python3.10/site-packages (0.3.27)\n",
      "Requirement already satisfied: flask in /Users/shivamanisriram/miniforge3/envs/medibot310/lib/python3.10/site-packages (3.1.2)\n",
      "Requirement already satisfied: pypdf in /Users/shivamanisriram/miniforge3/envs/medibot310/lib/python3.10/site-packages (6.0.0)\n",
      "Requirement already satisfied: python-dotenv in /Users/shivamanisriram/miniforge3/envs/medibot310/lib/python3.10/site-packages (1.1.1)\n",
      "Requirement already satisfied: langchain-pinecone in /Users/shivamanisriram/miniforge3/envs/medibot310/lib/python3.10/site-packages (0.2.11)\n",
      "Requirement already satisfied: langchain_community in /Users/shivamanisriram/miniforge3/envs/medibot310/lib/python3.10/site-packages (0.3.27)\n",
      "Requirement already satisfied: langchain_openai in /Users/shivamanisriram/miniforge3/envs/medibot310/lib/python3.10/site-packages (0.3.31)\n",
      "Requirement already satisfied: langchain_experimental in /Users/shivamanisriram/miniforge3/envs/medibot310/lib/python3.10/site-packages (0.3.4)\n",
      "Requirement already satisfied: pinecone[grpc] in /Users/shivamanisriram/miniforge3/envs/medibot310/lib/python3.10/site-packages (7.3.0)\n",
      "Requirement already satisfied: transformers<5.0.0,>=4.6.0 in /Users/shivamanisriram/miniforge3/envs/medibot310/lib/python3.10/site-packages (from sentence-transformers==2.2.2) (4.41.2)\n",
      "Requirement already satisfied: tqdm in /Users/shivamanisriram/miniforge3/envs/medibot310/lib/python3.10/site-packages (from sentence-transformers==2.2.2) (4.67.1)\n",
      "Requirement already satisfied: torch>=1.6.0 in /Users/shivamanisriram/miniforge3/envs/medibot310/lib/python3.10/site-packages (from sentence-transformers==2.2.2) (2.8.0)\n",
      "Requirement already satisfied: torchvision in /Users/shivamanisriram/miniforge3/envs/medibot310/lib/python3.10/site-packages (from sentence-transformers==2.2.2) (0.23.0)\n",
      "Requirement already satisfied: numpy in /Users/shivamanisriram/miniforge3/envs/medibot310/lib/python3.10/site-packages (from sentence-transformers==2.2.2) (2.2.6)\n",
      "Requirement already satisfied: scikit-learn in /Users/shivamanisriram/miniforge3/envs/medibot310/lib/python3.10/site-packages (from sentence-transformers==2.2.2) (1.7.1)\n",
      "Requirement already satisfied: scipy in /Users/shivamanisriram/miniforge3/envs/medibot310/lib/python3.10/site-packages (from sentence-transformers==2.2.2) (1.15.3)\n",
      "Requirement already satisfied: nltk in /Users/shivamanisriram/miniforge3/envs/medibot310/lib/python3.10/site-packages (from sentence-transformers==2.2.2) (3.9.1)\n",
      "Requirement already satisfied: sentencepiece in /Users/shivamanisriram/miniforge3/envs/medibot310/lib/python3.10/site-packages (from sentence-transformers==2.2.2) (0.2.1)\n",
      "Requirement already satisfied: huggingface-hub>=0.4.0 in /Users/shivamanisriram/miniforge3/envs/medibot310/lib/python3.10/site-packages (from sentence-transformers==2.2.2) (0.23.2)\n",
      "Requirement already satisfied: filelock in /Users/shivamanisriram/miniforge3/envs/medibot310/lib/python3.10/site-packages (from transformers<5.0.0,>=4.6.0->sentence-transformers==2.2.2) (3.19.1)\n",
      "Requirement already satisfied: packaging>=20.0 in /Users/shivamanisriram/miniforge3/envs/medibot310/lib/python3.10/site-packages (from transformers<5.0.0,>=4.6.0->sentence-transformers==2.2.2) (25.0)\n",
      "Requirement already satisfied: pyyaml>=5.1 in /Users/shivamanisriram/miniforge3/envs/medibot310/lib/python3.10/site-packages (from transformers<5.0.0,>=4.6.0->sentence-transformers==2.2.2) (6.0.2)\n",
      "Requirement already satisfied: regex!=2019.12.17 in /Users/shivamanisriram/miniforge3/envs/medibot310/lib/python3.10/site-packages (from transformers<5.0.0,>=4.6.0->sentence-transformers==2.2.2) (2025.7.34)\n",
      "Requirement already satisfied: requests in /Users/shivamanisriram/miniforge3/envs/medibot310/lib/python3.10/site-packages (from transformers<5.0.0,>=4.6.0->sentence-transformers==2.2.2) (2.32.5)\n",
      "Requirement already satisfied: tokenizers<0.20,>=0.19 in /Users/shivamanisriram/miniforge3/envs/medibot310/lib/python3.10/site-packages (from transformers<5.0.0,>=4.6.0->sentence-transformers==2.2.2) (0.19.1)\n",
      "Requirement already satisfied: safetensors>=0.4.1 in /Users/shivamanisriram/miniforge3/envs/medibot310/lib/python3.10/site-packages (from transformers<5.0.0,>=4.6.0->sentence-transformers==2.2.2) (0.6.2)\n",
      "Requirement already satisfied: fsspec>=2023.5.0 in /Users/shivamanisriram/miniforge3/envs/medibot310/lib/python3.10/site-packages (from huggingface-hub>=0.4.0->sentence-transformers==2.2.2) (2025.7.0)\n",
      "Requirement already satisfied: typing-extensions>=3.7.4.3 in /Users/shivamanisriram/miniforge3/envs/medibot310/lib/python3.10/site-packages (from huggingface-hub>=0.4.0->sentence-transformers==2.2.2) (4.14.1)\n",
      "Requirement already satisfied: langchain-core<1.0.0,>=0.3.72 in /Users/shivamanisriram/miniforge3/envs/medibot310/lib/python3.10/site-packages (from langchain) (0.3.74)\n",
      "Requirement already satisfied: langchain-text-splitters<1.0.0,>=0.3.9 in /Users/shivamanisriram/miniforge3/envs/medibot310/lib/python3.10/site-packages (from langchain) (0.3.9)\n",
      "Requirement already satisfied: langsmith>=0.1.17 in /Users/shivamanisriram/miniforge3/envs/medibot310/lib/python3.10/site-packages (from langchain) (0.4.16)\n",
      "Requirement already satisfied: pydantic<3.0.0,>=2.7.4 in /Users/shivamanisriram/miniforge3/envs/medibot310/lib/python3.10/site-packages (from langchain) (2.11.7)\n",
      "Requirement already satisfied: SQLAlchemy<3,>=1.4 in /Users/shivamanisriram/miniforge3/envs/medibot310/lib/python3.10/site-packages (from langchain) (2.0.43)\n",
      "Requirement already satisfied: async-timeout<5.0.0,>=4.0.0 in /Users/shivamanisriram/miniforge3/envs/medibot310/lib/python3.10/site-packages (from langchain) (4.0.3)\n",
      "Requirement already satisfied: tenacity!=8.4.0,<10.0.0,>=8.1.0 in /Users/shivamanisriram/miniforge3/envs/medibot310/lib/python3.10/site-packages (from langchain-core<1.0.0,>=0.3.72->langchain) (9.1.2)\n",
      "Requirement already satisfied: jsonpatch<2.0,>=1.33 in /Users/shivamanisriram/miniforge3/envs/medibot310/lib/python3.10/site-packages (from langchain-core<1.0.0,>=0.3.72->langchain) (1.33)\n",
      "Requirement already satisfied: jsonpointer>=1.9 in /Users/shivamanisriram/miniforge3/envs/medibot310/lib/python3.10/site-packages (from jsonpatch<2.0,>=1.33->langchain-core<1.0.0,>=0.3.72->langchain) (3.0.0)\n",
      "Requirement already satisfied: annotated-types>=0.6.0 in /Users/shivamanisriram/miniforge3/envs/medibot310/lib/python3.10/site-packages (from pydantic<3.0.0,>=2.7.4->langchain) (0.7.0)\n",
      "Requirement already satisfied: pydantic-core==2.33.2 in /Users/shivamanisriram/miniforge3/envs/medibot310/lib/python3.10/site-packages (from pydantic<3.0.0,>=2.7.4->langchain) (2.33.2)\n",
      "Requirement already satisfied: typing-inspection>=0.4.0 in /Users/shivamanisriram/miniforge3/envs/medibot310/lib/python3.10/site-packages (from pydantic<3.0.0,>=2.7.4->langchain) (0.4.1)\n",
      "Requirement already satisfied: charset_normalizer<4,>=2 in /Users/shivamanisriram/miniforge3/envs/medibot310/lib/python3.10/site-packages (from requests->transformers<5.0.0,>=4.6.0->sentence-transformers==2.2.2) (3.4.3)\n",
      "Requirement already satisfied: idna<4,>=2.5 in /Users/shivamanisriram/miniforge3/envs/medibot310/lib/python3.10/site-packages (from requests->transformers<5.0.0,>=4.6.0->sentence-transformers==2.2.2) (3.10)\n",
      "Requirement already satisfied: urllib3<3,>=1.21.1 in /Users/shivamanisriram/miniforge3/envs/medibot310/lib/python3.10/site-packages (from requests->transformers<5.0.0,>=4.6.0->sentence-transformers==2.2.2) (2.5.0)\n",
      "Requirement already satisfied: certifi>=2017.4.17 in /Users/shivamanisriram/miniforge3/envs/medibot310/lib/python3.10/site-packages (from requests->transformers<5.0.0,>=4.6.0->sentence-transformers==2.2.2) (2025.8.3)\n",
      "Requirement already satisfied: blinker>=1.9.0 in /Users/shivamanisriram/miniforge3/envs/medibot310/lib/python3.10/site-packages (from flask) (1.9.0)\n",
      "Requirement already satisfied: click>=8.1.3 in /Users/shivamanisriram/miniforge3/envs/medibot310/lib/python3.10/site-packages (from flask) (8.2.1)\n",
      "Requirement already satisfied: itsdangerous>=2.2.0 in /Users/shivamanisriram/miniforge3/envs/medibot310/lib/python3.10/site-packages (from flask) (2.2.0)\n",
      "Requirement already satisfied: jinja2>=3.1.2 in /Users/shivamanisriram/miniforge3/envs/medibot310/lib/python3.10/site-packages (from flask) (3.1.6)\n",
      "Requirement already satisfied: markupsafe>=2.1.1 in /Users/shivamanisriram/miniforge3/envs/medibot310/lib/python3.10/site-packages (from flask) (3.0.2)\n",
      "Requirement already satisfied: werkzeug>=3.1.0 in /Users/shivamanisriram/miniforge3/envs/medibot310/lib/python3.10/site-packages (from flask) (3.1.3)\n",
      "Requirement already satisfied: pinecone-plugin-assistant<2.0.0,>=1.6.0 in /Users/shivamanisriram/miniforge3/envs/medibot310/lib/python3.10/site-packages (from pinecone[grpc]) (1.7.0)\n",
      "Requirement already satisfied: pinecone-plugin-interface<0.0.8,>=0.0.7 in /Users/shivamanisriram/miniforge3/envs/medibot310/lib/python3.10/site-packages (from pinecone[grpc]) (0.0.7)\n",
      "Requirement already satisfied: python-dateutil>=2.5.3 in /Users/shivamanisriram/miniforge3/envs/medibot310/lib/python3.10/site-packages (from pinecone[grpc]) (2.9.0.post0)\n",
      "Requirement already satisfied: googleapis-common-protos>=1.66.0 in /Users/shivamanisriram/miniforge3/envs/medibot310/lib/python3.10/site-packages (from pinecone[grpc]) (1.70.0)\n",
      "Requirement already satisfied: grpcio>=1.44.0 in /Users/shivamanisriram/miniforge3/envs/medibot310/lib/python3.10/site-packages (from pinecone[grpc]) (1.74.0)\n",
      "Requirement already satisfied: lz4>=3.1.3 in /Users/shivamanisriram/miniforge3/envs/medibot310/lib/python3.10/site-packages (from pinecone[grpc]) (4.4.4)\n",
      "Requirement already satisfied: protobuf<6.0,>=5.29 in /Users/shivamanisriram/miniforge3/envs/medibot310/lib/python3.10/site-packages (from pinecone[grpc]) (5.29.5)\n",
      "Requirement already satisfied: protoc-gen-openapiv2<0.0.2,>=0.0.1 in /Users/shivamanisriram/miniforge3/envs/medibot310/lib/python3.10/site-packages (from pinecone[grpc]) (0.0.1)\n",
      "Collecting packaging>=20.0 (from transformers<5.0.0,>=4.6.0->sentence-transformers==2.2.2)\n",
      "  Using cached packaging-24.2-py3-none-any.whl.metadata (3.2 kB)\n",
      "Requirement already satisfied: langchain-tests<1.0.0,>=0.3.7 in /Users/shivamanisriram/miniforge3/envs/medibot310/lib/python3.10/site-packages (from langchain-pinecone) (0.3.20)\n",
      "Requirement already satisfied: pytest<9,>=7 in /Users/shivamanisriram/miniforge3/envs/medibot310/lib/python3.10/site-packages (from langchain-tests<1.0.0,>=0.3.7->langchain-pinecone) (8.4.1)\n",
      "Requirement already satisfied: pytest-asyncio<1,>=0.20 in /Users/shivamanisriram/miniforge3/envs/medibot310/lib/python3.10/site-packages (from langchain-tests<1.0.0,>=0.3.7->langchain-pinecone) (0.26.0)\n",
      "Requirement already satisfied: httpx<1,>=0.25.0 in /Users/shivamanisriram/miniforge3/envs/medibot310/lib/python3.10/site-packages (from langchain-tests<1.0.0,>=0.3.7->langchain-pinecone) (0.28.1)\n",
      "Requirement already satisfied: syrupy<5,>=4 in /Users/shivamanisriram/miniforge3/envs/medibot310/lib/python3.10/site-packages (from langchain-tests<1.0.0,>=0.3.7->langchain-pinecone) (4.9.1)\n",
      "Requirement already satisfied: pytest-socket<1,>=0.6.0 in /Users/shivamanisriram/miniforge3/envs/medibot310/lib/python3.10/site-packages (from langchain-tests<1.0.0,>=0.3.7->langchain-pinecone) (0.7.0)\n",
      "Requirement already satisfied: pytest-benchmark in /Users/shivamanisriram/miniforge3/envs/medibot310/lib/python3.10/site-packages (from langchain-tests<1.0.0,>=0.3.7->langchain-pinecone) (5.1.0)\n",
      "Requirement already satisfied: pytest-codspeed in /Users/shivamanisriram/miniforge3/envs/medibot310/lib/python3.10/site-packages (from langchain-tests<1.0.0,>=0.3.7->langchain-pinecone) (4.0.0)\n",
      "Requirement already satisfied: pytest-recording in /Users/shivamanisriram/miniforge3/envs/medibot310/lib/python3.10/site-packages (from langchain-tests<1.0.0,>=0.3.7->langchain-pinecone) (0.13.4)\n",
      "Requirement already satisfied: vcrpy>=7.0 in /Users/shivamanisriram/miniforge3/envs/medibot310/lib/python3.10/site-packages (from langchain-tests<1.0.0,>=0.3.7->langchain-pinecone) (7.0.0)\n",
      "Requirement already satisfied: anyio in /Users/shivamanisriram/miniforge3/envs/medibot310/lib/python3.10/site-packages (from httpx<1,>=0.25.0->langchain-tests<1.0.0,>=0.3.7->langchain-pinecone) (4.10.0)\n",
      "Requirement already satisfied: httpcore==1.* in /Users/shivamanisriram/miniforge3/envs/medibot310/lib/python3.10/site-packages (from httpx<1,>=0.25.0->langchain-tests<1.0.0,>=0.3.7->langchain-pinecone) (1.0.9)\n",
      "Requirement already satisfied: h11>=0.16 in /Users/shivamanisriram/miniforge3/envs/medibot310/lib/python3.10/site-packages (from httpcore==1.*->httpx<1,>=0.25.0->langchain-tests<1.0.0,>=0.3.7->langchain-pinecone) (0.16.0)\n",
      "Requirement already satisfied: aiohttp>=3.9.0 in /Users/shivamanisriram/miniforge3/envs/medibot310/lib/python3.10/site-packages (from pinecone[grpc]) (3.12.15)\n",
      "Requirement already satisfied: aiohttp-retry<3.0.0,>=2.9.1 in /Users/shivamanisriram/miniforge3/envs/medibot310/lib/python3.10/site-packages (from pinecone[grpc]) (2.9.1)\n",
      "Requirement already satisfied: exceptiongroup>=1 in /Users/shivamanisriram/miniforge3/envs/medibot310/lib/python3.10/site-packages (from pytest<9,>=7->langchain-tests<1.0.0,>=0.3.7->langchain-pinecone) (1.3.0)\n",
      "Requirement already satisfied: iniconfig>=1 in /Users/shivamanisriram/miniforge3/envs/medibot310/lib/python3.10/site-packages (from pytest<9,>=7->langchain-tests<1.0.0,>=0.3.7->langchain-pinecone) (2.1.0)\n",
      "Requirement already satisfied: pluggy<2,>=1.5 in /Users/shivamanisriram/miniforge3/envs/medibot310/lib/python3.10/site-packages (from pytest<9,>=7->langchain-tests<1.0.0,>=0.3.7->langchain-pinecone) (1.6.0)\n",
      "Requirement already satisfied: pygments>=2.7.2 in /Users/shivamanisriram/miniforge3/envs/medibot310/lib/python3.10/site-packages (from pytest<9,>=7->langchain-tests<1.0.0,>=0.3.7->langchain-pinecone) (2.19.2)\n",
      "Requirement already satisfied: tomli>=1 in /Users/shivamanisriram/miniforge3/envs/medibot310/lib/python3.10/site-packages (from pytest<9,>=7->langchain-tests<1.0.0,>=0.3.7->langchain-pinecone) (2.2.1)\n",
      "Requirement already satisfied: dataclasses-json<0.7,>=0.5.7 in /Users/shivamanisriram/miniforge3/envs/medibot310/lib/python3.10/site-packages (from langchain_community) (0.6.7)\n",
      "Requirement already satisfied: pydantic-settings<3.0.0,>=2.4.0 in /Users/shivamanisriram/miniforge3/envs/medibot310/lib/python3.10/site-packages (from langchain_community) (2.10.1)\n",
      "Requirement already satisfied: httpx-sse<1.0.0,>=0.4.0 in /Users/shivamanisriram/miniforge3/envs/medibot310/lib/python3.10/site-packages (from langchain_community) (0.4.1)\n",
      "Requirement already satisfied: aiohappyeyeballs>=2.5.0 in /Users/shivamanisriram/miniforge3/envs/medibot310/lib/python3.10/site-packages (from aiohttp>=3.9.0->pinecone[grpc]) (2.6.1)\n",
      "Requirement already satisfied: aiosignal>=1.4.0 in /Users/shivamanisriram/miniforge3/envs/medibot310/lib/python3.10/site-packages (from aiohttp>=3.9.0->pinecone[grpc]) (1.4.0)\n",
      "Requirement already satisfied: attrs>=17.3.0 in /Users/shivamanisriram/miniforge3/envs/medibot310/lib/python3.10/site-packages (from aiohttp>=3.9.0->pinecone[grpc]) (25.3.0)\n",
      "Requirement already satisfied: frozenlist>=1.1.1 in /Users/shivamanisriram/miniforge3/envs/medibot310/lib/python3.10/site-packages (from aiohttp>=3.9.0->pinecone[grpc]) (1.7.0)\n",
      "Requirement already satisfied: multidict<7.0,>=4.5 in /Users/shivamanisriram/miniforge3/envs/medibot310/lib/python3.10/site-packages (from aiohttp>=3.9.0->pinecone[grpc]) (6.6.4)\n",
      "Requirement already satisfied: propcache>=0.2.0 in /Users/shivamanisriram/miniforge3/envs/medibot310/lib/python3.10/site-packages (from aiohttp>=3.9.0->pinecone[grpc]) (0.3.2)\n",
      "Requirement already satisfied: yarl<2.0,>=1.17.0 in /Users/shivamanisriram/miniforge3/envs/medibot310/lib/python3.10/site-packages (from aiohttp>=3.9.0->pinecone[grpc]) (1.20.1)\n",
      "Requirement already satisfied: marshmallow<4.0.0,>=3.18.0 in /Users/shivamanisriram/miniforge3/envs/medibot310/lib/python3.10/site-packages (from dataclasses-json<0.7,>=0.5.7->langchain_community) (3.26.1)\n",
      "Requirement already satisfied: typing-inspect<1,>=0.4.0 in /Users/shivamanisriram/miniforge3/envs/medibot310/lib/python3.10/site-packages (from dataclasses-json<0.7,>=0.5.7->langchain_community) (0.9.0)\n",
      "Requirement already satisfied: mypy-extensions>=0.3.0 in /Users/shivamanisriram/miniforge3/envs/medibot310/lib/python3.10/site-packages (from typing-inspect<1,>=0.4.0->dataclasses-json<0.7,>=0.5.7->langchain_community) (1.1.0)\n",
      "Requirement already satisfied: openai<2.0.0,>=1.99.9 in /Users/shivamanisriram/miniforge3/envs/medibot310/lib/python3.10/site-packages (from langchain_openai) (1.101.0)\n",
      "Requirement already satisfied: tiktoken<1,>=0.7 in /Users/shivamanisriram/miniforge3/envs/medibot310/lib/python3.10/site-packages (from langchain_openai) (0.11.0)\n",
      "Requirement already satisfied: distro<2,>=1.7.0 in /Users/shivamanisriram/miniforge3/envs/medibot310/lib/python3.10/site-packages (from openai<2.0.0,>=1.99.9->langchain_openai) (1.9.0)\n",
      "Requirement already satisfied: jiter<1,>=0.4.0 in /Users/shivamanisriram/miniforge3/envs/medibot310/lib/python3.10/site-packages (from openai<2.0.0,>=1.99.9->langchain_openai) (0.10.0)\n",
      "Requirement already satisfied: sniffio in /Users/shivamanisriram/miniforge3/envs/medibot310/lib/python3.10/site-packages (from openai<2.0.0,>=1.99.9->langchain_openai) (1.3.1)\n",
      "Requirement already satisfied: orjson>=3.9.14 in /Users/shivamanisriram/miniforge3/envs/medibot310/lib/python3.10/site-packages (from langsmith>=0.1.17->langchain) (3.11.2)\n",
      "Requirement already satisfied: requests-toolbelt>=1.0.0 in /Users/shivamanisriram/miniforge3/envs/medibot310/lib/python3.10/site-packages (from langsmith>=0.1.17->langchain) (1.0.0)\n",
      "Requirement already satisfied: zstandard>=0.23.0 in /Users/shivamanisriram/miniforge3/envs/medibot310/lib/python3.10/site-packages (from langsmith>=0.1.17->langchain) (0.24.0)\n",
      "Requirement already satisfied: six>=1.5 in /Users/shivamanisriram/miniforge3/envs/medibot310/lib/python3.10/site-packages (from python-dateutil>=2.5.3->pinecone[grpc]) (1.17.0)\n",
      "Requirement already satisfied: sympy>=1.13.3 in /Users/shivamanisriram/miniforge3/envs/medibot310/lib/python3.10/site-packages (from torch>=1.6.0->sentence-transformers==2.2.2) (1.14.0)\n",
      "Requirement already satisfied: networkx in /Users/shivamanisriram/miniforge3/envs/medibot310/lib/python3.10/site-packages (from torch>=1.6.0->sentence-transformers==2.2.2) (3.4.2)\n",
      "Requirement already satisfied: mpmath<1.4,>=1.1.0 in /Users/shivamanisriram/miniforge3/envs/medibot310/lib/python3.10/site-packages (from sympy>=1.13.3->torch>=1.6.0->sentence-transformers==2.2.2) (1.3.0)\n",
      "Requirement already satisfied: wrapt in /Users/shivamanisriram/miniforge3/envs/medibot310/lib/python3.10/site-packages (from vcrpy>=7.0->langchain-tests<1.0.0,>=0.3.7->langchain-pinecone) (1.17.3)\n",
      "Requirement already satisfied: joblib in /Users/shivamanisriram/miniforge3/envs/medibot310/lib/python3.10/site-packages (from nltk->sentence-transformers==2.2.2) (1.5.1)\n",
      "Requirement already satisfied: py-cpuinfo in /Users/shivamanisriram/miniforge3/envs/medibot310/lib/python3.10/site-packages (from pytest-benchmark->langchain-tests<1.0.0,>=0.3.7->langchain-pinecone) (9.0.0)\n",
      "Requirement already satisfied: cffi>=1.17.1 in /Users/shivamanisriram/miniforge3/envs/medibot310/lib/python3.10/site-packages (from pytest-codspeed->langchain-tests<1.0.0,>=0.3.7->langchain-pinecone) (1.17.1)\n",
      "Requirement already satisfied: rich>=13.8.1 in /Users/shivamanisriram/miniforge3/envs/medibot310/lib/python3.10/site-packages (from pytest-codspeed->langchain-tests<1.0.0,>=0.3.7->langchain-pinecone) (14.1.0)\n",
      "Requirement already satisfied: pycparser in /Users/shivamanisriram/miniforge3/envs/medibot310/lib/python3.10/site-packages (from cffi>=1.17.1->pytest-codspeed->langchain-tests<1.0.0,>=0.3.7->langchain-pinecone) (2.22)\n",
      "Requirement already satisfied: markdown-it-py>=2.2.0 in /Users/shivamanisriram/miniforge3/envs/medibot310/lib/python3.10/site-packages (from rich>=13.8.1->pytest-codspeed->langchain-tests<1.0.0,>=0.3.7->langchain-pinecone) (4.0.0)\n",
      "Requirement already satisfied: mdurl~=0.1 in /Users/shivamanisriram/miniforge3/envs/medibot310/lib/python3.10/site-packages (from markdown-it-py>=2.2.0->rich>=13.8.1->pytest-codspeed->langchain-tests<1.0.0,>=0.3.7->langchain-pinecone) (0.1.2)\n",
      "Requirement already satisfied: threadpoolctl>=3.1.0 in /Users/shivamanisriram/miniforge3/envs/medibot310/lib/python3.10/site-packages (from scikit-learn->sentence-transformers==2.2.2) (3.6.0)\n",
      "Requirement already satisfied: pillow!=8.3.*,>=5.3.0 in /Users/shivamanisriram/miniforge3/envs/medibot310/lib/python3.10/site-packages (from torchvision->sentence-transformers==2.2.2) (11.3.0)\n",
      "Using cached packaging-24.2-py3-none-any.whl (65 kB)\n",
      "Installing collected packages: packaging\n",
      "  Attempting uninstall: packaging\n",
      "    Found existing installation: packaging 25.0\n",
      "    Uninstalling packaging-25.0:\n",
      "      Successfully uninstalled packaging-25.0\n",
      "Successfully installed packaging-24.2\n",
      "Note: you may need to restart the kernel to use updated packages.\n"
     ]
    }
   ],
   "source": [
    "%pip install sentence-transformers==2.2.2 langchain flask pypdf python-dotenv \"pinecone[grpc]\" langchain-pinecone langchain_community langchain_openai langchain_experimental\n",
    "\n",
    "from langchain.document_loaders import PyPDFLoader, DirectoryLoader\n",
    "from langchain.text_splitter import RecursiveCharacterTextSplitter"
   ]
  },
  {
   "cell_type": "code",
   "execution_count": 6,
   "id": "f5c4b485",
   "metadata": {},
   "outputs": [],
   "source": [
    "def load_pdf_file(data):\n",
    "    loader= DirectoryLoader(data,\n",
    "                            glob=\"*.pdf\",\n",
    "                            loader_cls=PyPDFLoader)\n",
    "\n",
    "    documents=loader.load()\n",
    "\n",
    "    return documents"
   ]
  },
  {
   "cell_type": "code",
   "execution_count": 7,
   "id": "f6543b31",
   "metadata": {},
   "outputs": [
    {
     "name": "stdout",
     "output_type": "stream",
     "text": [
      "Requirement already satisfied: pypdf in /Users/shivamanisriram/miniforge3/envs/medibot310/lib/python3.10/site-packages (6.0.0)\n",
      "Requirement already satisfied: typing_extensions>=4.0 in /Users/shivamanisriram/miniforge3/envs/medibot310/lib/python3.10/site-packages (from pypdf) (4.14.1)\n",
      "Note: you may need to restart the kernel to use updated packages.\n"
     ]
    }
   ],
   "source": [
    "%pip install pypdf \n",
    "import os\n",
    "from pypdf import PdfReader\n",
    "extracted_data=load_pdf_file(data='Data/')\n"
   ]
  },
  {
   "cell_type": "code",
   "execution_count": 8,
   "id": "5af1c36f",
   "metadata": {},
   "outputs": [],
   "source": [
    "def text_split(extracted_data):\n",
    "    text_splitter=RecursiveCharacterTextSplitter(chunk_size=500, chunk_overlap=20)\n",
    "    text_chunks=text_splitter.split_documents(extracted_data)\n",
    "    return text_chunks"
   ]
  },
  {
   "cell_type": "code",
   "execution_count": 9,
   "id": "adc97ef2",
   "metadata": {},
   "outputs": [
    {
     "name": "stdout",
     "output_type": "stream",
     "text": [
      "Length of Text Chunks 5859\n"
     ]
    }
   ],
   "source": [
    "text_chunks=text_split(extracted_data)\n",
    "print(\"Length of Text Chunks\", len(text_chunks))"
   ]
  },
  {
   "cell_type": "code",
   "execution_count": 10,
   "id": "3de83ccf",
   "metadata": {},
   "outputs": [],
   "source": [
    "from langchain.embeddings import HuggingFaceEmbeddings\n"
   ]
  },
  {
   "cell_type": "code",
   "execution_count": 11,
   "id": "b6fc37f3",
   "metadata": {},
   "outputs": [],
   "source": [
    "def download_hugging_face_embeddings():\n",
    "    embeddings=HuggingFaceEmbeddings(model_name='sentence-transformers/all-MiniLM-L6-v2')\n",
    "    return embeddings"
   ]
  },
  {
   "cell_type": "code",
   "execution_count": 12,
   "id": "299a9dc5",
   "metadata": {},
   "outputs": [
    {
     "name": "stderr",
     "output_type": "stream",
     "text": [
      "/Users/shivamanisriram/miniforge3/envs/medibot310/lib/python3.10/site-packages/tqdm/auto.py:21: TqdmWarning: IProgress not found. Please update jupyter and ipywidgets. See https://ipywidgets.readthedocs.io/en/stable/user_install.html\n",
      "  from .autonotebook import tqdm as notebook_tqdm\n"
     ]
    },
    {
     "name": "stdout",
     "output_type": "stream",
     "text": [
      "Model loaded!\n"
     ]
    }
   ],
   "source": [
    "from sentence_transformers import SentenceTransformer\n",
    "model = SentenceTransformer(\"all-MiniLM-L6-v2\")\n",
    "print(\"Model loaded!\")\n"
   ]
  },
  {
   "cell_type": "code",
   "execution_count": 13,
   "id": "ba869a90",
   "metadata": {},
   "outputs": [
    {
     "name": "stderr",
     "output_type": "stream",
     "text": [
      "/var/folders/tr/q8znrskx3vg38pjxh7pm0mfm0000gn/T/ipykernel_33796/4043855499.py:2: LangChainDeprecationWarning: The class `HuggingFaceEmbeddings` was deprecated in LangChain 0.2.2 and will be removed in 1.0. An updated version of the class exists in the :class:`~langchain-huggingface package and should be used instead. To use it run `pip install -U :class:`~langchain-huggingface` and import as `from :class:`~langchain_huggingface import HuggingFaceEmbeddings``.\n",
      "  embeddings=HuggingFaceEmbeddings(model_name='sentence-transformers/all-MiniLM-L6-v2')\n"
     ]
    }
   ],
   "source": [
    "embeddings=download_hugging_face_embeddings()"
   ]
  },
  {
   "cell_type": "code",
   "execution_count": 14,
   "id": "62fac20c",
   "metadata": {},
   "outputs": [
    {
     "name": "stdout",
     "output_type": "stream",
     "text": [
      "Length 384\n"
     ]
    }
   ],
   "source": [
    "query_result = embeddings.embed_query(\"Hello world\")\n",
    "print(\"Length\", len(query_result))"
   ]
  },
  {
   "cell_type": "code",
   "execution_count": 35,
   "id": "830a855b",
   "metadata": {},
   "outputs": [
    {
     "data": {
      "text/plain": [
       "True"
      ]
     },
     "execution_count": 35,
     "metadata": {},
     "output_type": "execute_result"
    }
   ],
   "source": [
    "from dotenv import load_dotenv\n",
    "load_dotenv()"
   ]
  },
  {
   "cell_type": "code",
   "execution_count": 34,
   "id": "971990c7",
   "metadata": {},
   "outputs": [],
   "source": [
    "import os\n",
    "PINECONE_API_KEY=os.environ.get('PINECONE_API_KEY')\n",
    "GROQ_API_KEY=os.environ.get('GROQ_API_KEY')\n"
   ]
  },
  {
   "cell_type": "code",
   "execution_count": 36,
   "id": "f4fa589b",
   "metadata": {},
   "outputs": [
    {
     "name": "stdout",
     "output_type": "stream",
     "text": [
      "Index 'medicalbot' already exists (caught exception).\n"
     ]
    }
   ],
   "source": [
    "from pinecone.grpc import PineconeGRPC as Pinecone\n",
    "from pinecone import ServerlessSpec\n",
    "import os\n",
    "\n",
    "pc = Pinecone(api_key=PINECONE_API_KEY)\n",
    "\n",
    "index_name = \"medicalbot\"\n",
    "\n",
    "\n",
    "try:\n",
    "    if index_name not in pc.list_indexes():\n",
    "        pc.create_index(\n",
    "            name=index_name,\n",
    "            dimension=384, \n",
    "            metric=\"cosine\", \n",
    "            spec=ServerlessSpec(\n",
    "                cloud=\"aws\", \n",
    "                region=\"us-east-1\"\n",
    "            ) \n",
    "        )\n",
    "    else:\n",
    "        print(f\"Index '{index_name}' already exists.\")\n",
    "except Exception as e:\n",
    "    if \"ALREADY_EXISTS\" in str(e):\n",
    "        print(f\"Index '{index_name}' already exists (caught exception).\")\n",
    "    else:\n",
    "        raise"
   ]
  },
  {
   "cell_type": "code",
   "execution_count": 37,
   "id": "e62f9f79",
   "metadata": {},
   "outputs": [],
   "source": [
    "import os\n",
    "os.environ[\"PINECONE_API_KEY\"] = PINECONE_API_KEY\n",
    "os.environ[\"GROQ_API_KEY\"] = GROQ_API_KEY\n",
    "\n"
   ]
  },
  {
   "cell_type": "code",
   "execution_count": 20,
   "id": "9318bf92",
   "metadata": {},
   "outputs": [],
   "source": [
    "from langchain_pinecone import PineconeVectorStore\n",
    "\n",
    "docsearch = PineconeVectorStore.from_documents(\n",
    "    documents=text_chunks,\n",
    "    index_name=index_name,\n",
    "    embedding=embeddings, \n",
    ")"
   ]
  },
  {
   "cell_type": "code",
   "execution_count": 38,
   "id": "b8a7b3a2",
   "metadata": {},
   "outputs": [],
   "source": [
    "from langchain_pinecone import PineconeVectorStore\n",
    "# Embed each chunk and upsert the embeddings into your Pinecone index.\n",
    "docsearch = PineconeVectorStore.from_existing_index(\n",
    "    index_name=index_name,\n",
    "    embedding=embeddings\n",
    ")"
   ]
  },
  {
   "cell_type": "code",
   "execution_count": 39,
   "id": "a026b12d",
   "metadata": {},
   "outputs": [
    {
     "data": {
      "text/plain": [
       "<langchain_pinecone.vectorstores.PineconeVectorStore at 0x10fcc65c0>"
      ]
     },
     "execution_count": 39,
     "metadata": {},
     "output_type": "execute_result"
    }
   ],
   "source": [
    "docsearch"
   ]
  },
  {
   "cell_type": "code",
   "execution_count": 40,
   "id": "f2ceaba8",
   "metadata": {},
   "outputs": [],
   "source": [
    "retriever = docsearch.as_retriever(search_type=\"similarity\", search_kwargs={\"k\":3})"
   ]
  },
  {
   "cell_type": "code",
   "execution_count": 41,
   "id": "1aad7abf",
   "metadata": {},
   "outputs": [
    {
     "data": {
      "text/plain": [
       "[Document(id='c4a4c421-bbc5-43d2-995e-bb148048a114', metadata={'creationdate': '2004-12-18T17:00:02-05:00', 'creator': 'PyPDF', 'moddate': '2004-12-18T16:15:31-06:00', 'page': 39.0, 'page_label': '40', 'producer': 'PDFlib+PDI 5.0.0 (SunOS)', 'source': 'Data/Medical_book.pdf', 'total_pages': 637.0}, page_content='GALE ENCYCLOPEDIA OF MEDICINE 226\\nAcne\\nGEM - 0001 to 0432 - A  10/22/03 1:41 PM  Page 26'),\n",
       " Document(id='8159483e-0155-4e01-bb0e-6260f1ff2f78', metadata={'creationdate': '2004-12-18T17:00:02-05:00', 'creator': 'PyPDF', 'moddate': '2004-12-18T16:15:31-06:00', 'page': 39.0, 'page_label': '40', 'producer': 'PDFlib+PDI 5.0.0 (SunOS)', 'source': 'Data/Medical_book.pdf', 'total_pages': 637.0}, page_content='GALE ENCYCLOPEDIA OF MEDICINE 226\\nAcne\\nGEM - 0001 to 0432 - A  10/22/03 1:41 PM  Page 26'),\n",
       " Document(id='f49b6f4e-da5b-40ba-bb73-da3d0fc76a63', metadata={'creationdate': '2004-12-18T17:00:02-05:00', 'creator': 'PyPDF', 'moddate': '2004-12-18T16:15:31-06:00', 'page': 39.0, 'page_label': '40', 'producer': 'PDFlib+PDI 5.0.0 (SunOS)', 'source': 'Data/Medical_book.pdf', 'total_pages': 637.0}, page_content='GALE ENCYCLOPEDIA OF MEDICINE 226\\nAcne\\nGEM - 0001 to 0432 - A  10/22/03 1:41 PM  Page 26')]"
      ]
     },
     "execution_count": 41,
     "metadata": {},
     "output_type": "execute_result"
    }
   ],
   "source": [
    "retrieved_docs = retriever.invoke(\"What is Acne?\")\n",
    "retrieved_docs"
   ]
  },
  {
   "cell_type": "code",
   "execution_count": 42,
   "id": "96a9a3ea",
   "metadata": {},
   "outputs": [],
   "source": [
    "from langchain_groq import ChatGroq\n",
    "\n",
    "llm = ChatGroq(\n",
    "    api_key=GROQ_API_KEY,\n",
    "    model=\"llama-3.1-8b-instant\",\n",
    "    temperature=0.4,\n",
    "    max_tokens=500\n",
    ")\n"
   ]
  },
  {
   "cell_type": "code",
   "execution_count": 43,
   "id": "76ea81ef",
   "metadata": {},
   "outputs": [],
   "source": [
    "from langchain.chains import create_retrieval_chain\n",
    "from langchain.chains.combine_documents import create_stuff_documents_chain\n",
    "from langchain_core.prompts import ChatPromptTemplate\n",
    "\n",
    "\n",
    "system_prompt = (\n",
    "    \"You are an assistant for question-answering tasks. \"\n",
    "    \"Use the following pieces of retrieved context to answer \"\n",
    "    \"the question. If you don't know the answer, say that you \"\n",
    "    \"don't know. Use three sentences maximum and keep the \"\n",
    "    \"answer concise.\"\n",
    "    \"\\n\\n\"\n",
    "    \"{context}\"\n",
    ")\n",
    "\n",
    "\n",
    "prompt = ChatPromptTemplate.from_messages(\n",
    "    [\n",
    "        (\"system\", system_prompt),\n",
    "        (\"human\", \"{input}\"),\n",
    "    ]\n",
    ")"
   ]
  },
  {
   "cell_type": "code",
   "execution_count": 44,
   "id": "94992a54",
   "metadata": {},
   "outputs": [],
   "source": [
    "question_answer_chain = create_stuff_documents_chain(llm, prompt)\n",
    "rag_chain = create_retrieval_chain(retriever, question_answer_chain)"
   ]
  },
  {
   "cell_type": "code",
   "execution_count": 45,
   "id": "4fa07a43",
   "metadata": {},
   "outputs": [
    {
     "name": "stdout",
     "output_type": "stream",
     "text": [
      "I don't have any information on the context of the given text. However, based on general knowledge, acne is a skin condition characterized by the occurrence of comedones (blackheads and whiteheads), pimples, and sometimes cysts, typically on the face, chest, and back. It is caused by a combination of factors, including excess oil production, bacteria, and inflammation.\n"
     ]
    }
   ],
   "source": [
    "response = rag_chain.invoke({\"input\": \"what is Acne?\"})\n",
    "print(response[\"answer\"])"
   ]
  }
 ],
 "metadata": {
  "kernelspec": {
   "display_name": "medibot310",
   "language": "python",
   "name": "python3"
  },
  "language_info": {
   "codemirror_mode": {
    "name": "ipython",
    "version": 3
   },
   "file_extension": ".py",
   "mimetype": "text/x-python",
   "name": "python",
   "nbconvert_exporter": "python",
   "pygments_lexer": "ipython3",
   "version": "3.10.18"
  }
 },
 "nbformat": 4,
 "nbformat_minor": 5
}
